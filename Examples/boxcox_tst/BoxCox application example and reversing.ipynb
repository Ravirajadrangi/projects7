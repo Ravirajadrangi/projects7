{
 "cells": [
  {
   "cell_type": "markdown",
   "metadata": {},
   "source": [
    "### Boxcox transformation"
   ]
  },
  {
   "cell_type": "markdown",
   "metadata": {},
   "source": [
    "Boxcox return a positive dataset transformed by a Box-Cox power transformation. Useful for transforming a skewed continuous non-negative with a non-normal distribution sample into a \"more normal\" one with less skeweness\n",
    "\n",
    "*\"Another important use of variable transformation is to eliminate skewness and other distributional features that complicate analysis. Often the goal is to find a simple transformation that leads to normality. \"*\n",
    "\n",
    "- Nice doc http://onlinestatbook.com/2/transformations/box-cox.html\n",
    "- How to use Boxcox from scipy https://docs.scipy.org/doc/scipy-0.16.0/reference/generated/scipy.stats.boxcox.html"
   ]
  },
  {
   "cell_type": "code",
   "execution_count": 1,
   "metadata": {
    "collapsed": true
   },
   "outputs": [],
   "source": [
    "from scipy import stats\n",
    "import numpy as np\n",
    "import matplotlib.pyplot as plt\n",
    "%matplotlib inline"
   ]
  },
  {
   "cell_type": "code",
   "execution_count": 2,
   "metadata": {
    "collapsed": false
   },
   "outputs": [],
   "source": [
    "data = np.genfromtxt(\"nonnormal.csv\", names=True, delimiter=\"\\n\")"
   ]
  },
  {
   "cell_type": "markdown",
   "metadata": {},
   "source": [
    "Get rid of the negative values by shifting the whole data set to the positive domain"
   ]
  },
  {
   "cell_type": "code",
   "execution_count": 3,
   "metadata": {
    "collapsed": false
   },
   "outputs": [],
   "source": [
    "shift = np.abs(np.floor(min(data[\"x\"])))"
   ]
  },
  {
   "cell_type": "markdown",
   "metadata": {},
   "source": [
    "Original data hist plot"
   ]
  },
  {
   "cell_type": "code",
   "execution_count": 4,
   "metadata": {
    "collapsed": false
   },
   "outputs": [
    {
     "data": {
      "text/plain": [
       "(array([   1.,    0.,    0.,    0.,    0.,    0.,    4.,    1.,    6.,\n",
       "          10.,   16.,   24.,   36.,   57.,   80.,  105.,  135.,  185.,\n",
       "         237.,  252.,  215.,  220.,  227.,  451.,  477.,  211.,   34.,\n",
       "          10.,    3.,    3.]),\n",
       " array([-13.02781436, -10.63652586,  -8.24523735,  -5.85394885,\n",
       "         -3.46266034,  -1.07137184,   1.31991667,   3.71120517,\n",
       "          6.10249368,   8.49378218,  10.88507069,  13.27635919,\n",
       "         15.6676477 ,  18.0589362 ,  20.45022471,  22.84151321,\n",
       "         25.23280171,  27.62409022,  30.01537872,  32.40666723,\n",
       "         34.79795573,  37.18924424,  39.58053274,  41.97182125,\n",
       "         44.36310975,  46.75439826,  49.14568676,  51.53697527,\n",
       "         53.92826377,  56.31955228,  58.71084078]),\n",
       " <a list of 30 Patch objects>)"
      ]
     },
     "execution_count": 4,
     "metadata": {},
     "output_type": "execute_result"
    },
    {
     "data": {
      "image/png": "[encoded data removed]",
      "text/plain": [
       "<matplotlib.figure.Figure at 0x9522358>"
      ]
     },
     "metadata": {},
     "output_type": "display_data"
    }
   ],
   "source": [
    "plt.hist(data[\"x\"], bins=30)"
   ]
  },
  {
   "cell_type": "code",
   "execution_count": 5,
   "metadata": {
    "collapsed": false
   },
   "outputs": [
    {
     "name": "stdout",
     "output_type": "stream",
     "text": [
      "The automatic selected lambda is: 2.5962\n"
     ]
    }
   ],
   "source": [
    "labmda_auto = stats.boxcox(data[\"x\"]+shift)[1]\n",
    "print(\"The automatic selected lambda is: \" + str(round(labmda_auto, 4)))\n",
    "data_coxbox = stats.boxcox(data[\"x\"]+shift)[0]"
   ]
  },
  {
   "cell_type": "code",
   "execution_count": 25,
   "metadata": {
    "collapsed": false
   },
   "outputs": [
    {
     "name": "stdout",
     "output_type": "stream",
     "text": [
      "Skewness of the dataset before was: -0.799505835826\n",
      "Skewness of the dataset aftex applying boxcox is: -0.181437562321\n"
     ]
    }
   ],
   "source": [
    "print(\"Skewness of the dataset before was: \" + str(stats.skew(data[\"x\"])))\n",
    "print(\"Skewness of the dataset aftex applying boxcox is: \" + str(stats.skew(data_coxbox)))"
   ]
  },
  {
   "cell_type": "markdown",
   "metadata": {},
   "source": [
    "A negative skew means that there is more weight on the right tail of the distribution. 0 means no skewness (perfect normal distribution)."
   ]
  },
  {
   "cell_type": "code",
   "execution_count": 6,
   "metadata": {
    "collapsed": false
   },
   "outputs": [
    {
     "data": {
      "text/plain": [
       "(array([   6.,   21.,   40.,   59.,   94.,  115.,  135.,  169.,  183.,\n",
       "         204.,  173.,  159.,  148.,  116.,  147.,  229.,  270.,  287.,\n",
       "         216.,  131.,   57.,   18.,    7.,    6.,    3.,    1.,    1.,\n",
       "           2.,    1.,    2.]),\n",
       " array([ -2.72003481e-02,   8.74163087e+02,   1.74835337e+03,\n",
       "          2.62254366e+03,   3.49673395e+03,   4.37092424e+03,\n",
       "          5.24511452e+03,   6.11930481e+03,   6.99349510e+03,\n",
       "          7.86768539e+03,   8.74187567e+03,   9.61606596e+03,\n",
       "          1.04902562e+04,   1.13644465e+04,   1.22386368e+04,\n",
       "          1.31128271e+04,   1.39870174e+04,   1.48612077e+04,\n",
       "          1.57353980e+04,   1.66095883e+04,   1.74837785e+04,\n",
       "          1.83579688e+04,   1.92321591e+04,   2.01063494e+04,\n",
       "          2.09805397e+04,   2.18547300e+04,   2.27289203e+04,\n",
       "          2.36031106e+04,   2.44773008e+04,   2.53514911e+04,\n",
       "          2.62256814e+04]),\n",
       " <a list of 30 Patch objects>)"
      ]
     },
     "execution_count": 6,
     "metadata": {},
     "output_type": "execute_result"
    },
    {
     "data": {
      "image/png": "[encoded data removed]",
      "text/plain": [
       "<matplotlib.figure.Figure at 0x9546cc0>"
      ]
     },
     "metadata": {},
     "output_type": "display_data"
    }
   ],
   "source": [
    "plt.hist(data_coxbox, bins=30)"
   ]
  },
  {
   "cell_type": "markdown",
   "metadata": {},
   "source": [
    "With simple algebra, we see how to calculate the inverse of the boxcox function, which looks like: f(X) = (X^lambda - 1)/lambda"
   ]
  },
  {
   "cell_type": "code",
   "execution_count": 39,
   "metadata": {
    "collapsed": true
   },
   "outputs": [],
   "source": [
    "def reverse_boxcox(data, lambda_, shift):\n",
    "    result = ((data*lambda_)+1) ** (1/lambda_) - shift\n",
    "    return result"
   ]
  },
  {
   "cell_type": "code",
   "execution_count": 35,
   "metadata": {
    "collapsed": false
   },
   "outputs": [
    {
     "name": "stdout",
     "output_type": "stream",
     "text": [
      "Skewness of the dataset before was: -0.799505835826\n",
      "Skewness of the dataset aftex applying boxcox is: -0.181437562321\n"
     ]
    }
   ],
   "source": [
    "print(\"Skewness of the dataset before was: \" + str(stats.skew(data[\"x\"])))\n",
    "print(\"Skewness of the dataset aftex applying boxcox is: \" + str(stats.skew(data_coxbox)))"
   ]
  },
  {
   "cell_type": "code",
   "execution_count": 40,
   "metadata": {
    "collapsed": false
   },
   "outputs": [
    {
     "data": {
      "text/plain": [
       "(array([   1.,    0.,    0.,    0.,    0.,    0.,    4.,    1.,    6.,\n",
       "          10.,   16.,   24.,   36.,   57.,   80.,  105.,  135.,  185.,\n",
       "         237.,  252.,  215.,  220.,  227.,  451.,  477.,  211.,   34.,\n",
       "          10.,    3.,    3.]),\n",
       " array([-13.02781436, -10.63652586,  -8.24523735,  -5.85394885,\n",
       "         -3.46266034,  -1.07137184,   1.31991667,   3.71120517,\n",
       "          6.10249368,   8.49378218,  10.88507069,  13.27635919,\n",
       "         15.6676477 ,  18.0589362 ,  20.45022471,  22.84151321,\n",
       "         25.23280171,  27.62409022,  30.01537872,  32.40666723,\n",
       "         34.79795573,  37.18924424,  39.58053274,  41.97182125,\n",
       "         44.36310975,  46.75439826,  49.14568676,  51.53697527,\n",
       "         53.92826377,  56.31955228,  58.71084078]),\n",
       " <a list of 30 Patch objects>)"
      ]
     },
     "execution_count": 40,
     "metadata": {},
     "output_type": "execute_result"
    },
    {
     "data": {
      "image/png": "[encoded data removed]",
      "text/plain": [
       "<matplotlib.figure.Figure at 0xaff6240>"
      ]
     },
     "metadata": {},
     "output_type": "display_data"
    }
   ],
   "source": [
    "testd = reverse_boxcox(data_coxbox, labmda_auto, shift)\n",
    "plt.hist(testd, bins=30)"
   ]
  }
 ],
 "metadata": {
  "kernelspec": {
   "display_name": "Python 2",
   "language": "python",
   "name": "python2"
  },
  "language_info": {
   "codemirror_mode": {
    "name": "ipython",
    "version": 2
   },
   "file_extension": ".py",
   "mimetype": "text/x-python",
   "name": "python",
   "nbconvert_exporter": "python",
   "pygments_lexer": "ipython2",
   "version": "2.7.11"
  }
 },
 "nbformat": 4,
 "nbformat_minor": 1
}
